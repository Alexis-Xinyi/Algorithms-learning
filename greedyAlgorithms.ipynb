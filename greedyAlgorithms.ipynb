{
 "cells": [
  {
   "cell_type": "markdown",
   "metadata": {},
   "source": [
    "# Greedy Algorithms *[Approximation]*\n",
    "\n",
    "### Features:\n",
    "1. It makes decision step by step: By using the information it has on the current step.\n",
    "2. Finds the optimization locally, hoping to end up with a global optimum.\n",
    "---\n",
    "\n",
    "### Usasge: On problems that have no fast solutions (like NP-problem)\n",
    "\n",
    "Greedy Algorithm is a fast way to find a solution that is close to optimal in a short time\n",
    "\n",
    "---\n",
    "### Examples:\n",
    "Breadth-first search, Dijksta's algorithm"
   ]
  },
  {
   "cell_type": "markdown",
   "metadata": {},
   "source": [
    "## Set:\n",
    "Set is like a list except that each item can only show up once. **Sets cannot have duplicates.**\n"
   ]
  },
  {
   "cell_type": "code",
   "execution_count": 60,
   "metadata": {},
   "outputs": [],
   "source": [
    "states_needed = set(['mt','wa','or','id','nv','ut','ca','az'])\n",
    "\n",
    "stations = {}\n",
    "stations['kone'] = set(['id','nv','ut'])\n",
    "stations['ktwo'] = set(['wa','id','mt'])\n",
    "stations['kthree'] = set(['or','nv','ca'])\n",
    "stations['kfour'] = set(['nv','ut'])\n",
    "stations['kfive'] = set(['ca','az'])\n",
    "final_stations = set()"
   ]
  },
  {
   "cell_type": "code",
   "execution_count": 63,
   "metadata": {},
   "outputs": [],
   "source": [
    "while states_needed:\n",
    "    best_station = None\n",
    "    states_covered = set()\n",
    "    for station, states in stations.items():\n",
    "        covered = states_needed & states\n",
    "        if len(covered) > len(states_covered):\n",
    "            best_station = station\n",
    "            states_covered = covered\n",
    "        print(best_station)\n",
    "    states_needed -= states_covered\n",
    "    final_stations.add(best_station)"
   ]
  },
  {
   "cell_type": "code",
   "execution_count": 64,
   "metadata": {},
   "outputs": [
    {
     "name": "stdout",
     "output_type": "stream",
     "text": [
      "{'ktwo', 'kthree', 'kfive', 'kone'}\n"
     ]
    }
   ],
   "source": [
    "print(final_stations)"
   ]
  },
  {
   "cell_type": "markdown",
   "metadata": {},
   "source": [
    "---\n",
    "## NP-complete Problems:\n",
    "In order to find the optimal solution, you need to calculate every possible set\n",
    "An example is **Travelling Salesperson** or **Set Covering Problems**.\n",
    "\n",
    "### How to tell?\n",
    "- \"All combinations\" problems\n",
    "- \"Every possible version\" but cannot be broken down to smaller problems.\n",
    "- Involves a sequence (like cities in the traveling salesperson)\n",
    "- Involves a set\n",
    "---"
   ]
  },
  {
   "cell_type": "code",
   "execution_count": null,
   "metadata": {},
   "outputs": [],
   "source": []
  }
 ],
 "metadata": {
  "kernelspec": {
   "display_name": "Python 3",
   "language": "python",
   "name": "python3"
  },
  "language_info": {
   "codemirror_mode": {
    "name": "ipython",
    "version": 3
   },
   "file_extension": ".py",
   "mimetype": "text/x-python",
   "name": "python",
   "nbconvert_exporter": "python",
   "pygments_lexer": "ipython3",
   "version": "3.7.1"
  }
 },
 "nbformat": 4,
 "nbformat_minor": 2
}
