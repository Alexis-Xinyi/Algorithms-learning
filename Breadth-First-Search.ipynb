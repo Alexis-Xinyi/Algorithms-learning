{
 "cells": [
  {
   "cell_type": "markdown",
   "metadata": {},
   "source": [
    "# Breadth-First Search\n",
    "1. Breadth-first search tells you if there is a path from A to B. If there is, it tells you the **shortest path**.\n",
    "2. Model the problem as a graph, then use the breadth-first search to solve.\n",
    "3. Queues are FIFO *(First In, First Out).*\n",
    "4. Stacks are LIFO *(Last In, First Out).*\n",
    "5. Search list needs to be a queue.\n",
    "6. You need to have a **searched list** so you only check them once."
   ]
  },
  {
   "cell_type": "markdown",
   "metadata": {},
   "source": [
    "### Topological Sort\n",
    "If A depends on B, A shows up earlier in the list.\n",
    "### Tree\n",
    "A special type of graph where no edge ever points back."
   ]
  },
  {
   "cell_type": "code",
   "execution_count": 40,
   "metadata": {},
   "outputs": [],
   "source": [
    "from collections import deque\n",
    "search_queue = deque()\n",
    "search_queue += graph['you']"
   ]
  },
  {
   "cell_type": "code",
   "execution_count": 41,
   "metadata": {},
   "outputs": [],
   "source": [
    "def person_is_seller(name):\n",
    "    for i in name:\n",
    "        print(i)\n",
    "        if i == 'pilar':\n",
    "            print('she likes you!')\n",
    "            return True\n",
    "    return False"
   ]
  },
  {
   "cell_type": "code",
   "execution_count": 34,
   "metadata": {},
   "outputs": [],
   "source": [
    "def search(name):\n",
    "    search_queue = deque()\n",
    "    search_queue += graph[name]\n",
    "    searched = []\n",
    "    while search_queue:\n",
    "        person = search_queue.popleft()\n",
    "        if not person in searched:\n",
    "            if person_is_seller(name):\n",
    "                print (person + 'is a mango seller!')\n",
    "                return True\n",
    "            else:\n",
    "                search_queue += graph[person]\n",
    "                searched.append(person)\n",
    "    return False"
   ]
  },
  {
   "cell_type": "code",
   "execution_count": 35,
   "metadata": {},
   "outputs": [
    {
     "name": "stdout",
     "output_type": "stream",
     "text": [
      "y\n",
      "o\n",
      "u\n",
      "y\n",
      "o\n",
      "u\n",
      "y\n",
      "o\n",
      "u\n",
      "y\n",
      "o\n",
      "u\n",
      "y\n",
      "o\n",
      "u\n",
      "y\n",
      "o\n",
      "u\n",
      "y\n",
      "o\n",
      "u\n"
     ]
    },
    {
     "data": {
      "text/plain": [
       "False"
      ]
     },
     "execution_count": 35,
     "metadata": {},
     "output_type": "execute_result"
    }
   ],
   "source": [
    "search('you')"
   ]
  },
  {
   "cell_type": "code",
   "execution_count": 38,
   "metadata": {},
   "outputs": [
    {
     "data": {
      "text/plain": [
       "{'you': ['alice', 'bob', 'pilar'],\n",
       " 'bob': ['anuj', 'peggy'],\n",
       " 'alice': ['peggy'],\n",
       " 'pilar': ['thom', 'jonny'],\n",
       " 'anuj': [],\n",
       " 'peggy': [],\n",
       " 'thom': [],\n",
       " 'jonny': []}"
      ]
     },
     "execution_count": 38,
     "metadata": {},
     "output_type": "execute_result"
    }
   ],
   "source": [
    "graph"
   ]
  },
  {
   "cell_type": "code",
   "execution_count": null,
   "metadata": {},
   "outputs": [],
   "source": []
  }
 ],
 "metadata": {
  "kernelspec": {
   "display_name": "Python 3",
   "language": "python",
   "name": "python3"
  },
  "language_info": {
   "codemirror_mode": {
    "name": "ipython",
    "version": 3
   },
   "file_extension": ".py",
   "mimetype": "text/x-python",
   "name": "python",
   "nbconvert_exporter": "python",
   "pygments_lexer": "ipython3",
   "version": "3.7.1"
  }
 },
 "nbformat": 4,
 "nbformat_minor": 2
}
