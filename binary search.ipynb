{
 "cells": [
  {
   "cell_type": "code",
   "execution_count": 16,
   "metadata": {},
   "outputs": [],
   "source": [
    "def binary_search(mylist,guess):\n",
    "    \"\"\"mid.low, high all refer to just the position of the list\n",
    "    \"\"\"\n",
    "    low = 0\n",
    "    high = len(mylist)-1\n",
    "    while low<=high:\n",
    "        mid = round((low+high)/2)\n",
    "        item = mylist[mid]\n",
    "        if guess<item:\n",
    "            high = mid-1\n",
    "        elif guess>item:\n",
    "            low = mid+1\n",
    "        else:\n",
    "            return mid+1\n",
    "            ##so that it's more distinct of which one is the target\n",
    "    print('There is no desired target in the list')\n",
    "    return None"
   ]
  },
  {
   "cell_type": "code",
   "execution_count": 17,
   "metadata": {},
   "outputs": [],
   "source": [
    "testlist = [1,2,3,4,5]"
   ]
  },
  {
   "cell_type": "code",
   "execution_count": 18,
   "metadata": {},
   "outputs": [
    {
     "name": "stdout",
     "output_type": "stream",
     "text": [
      "There is no desired target in the list\n"
     ]
    }
   ],
   "source": [
    "binary_search(testlist,7)"
   ]
  }
 ],
 "metadata": {
  "kernelspec": {
   "display_name": "Python 3",
   "language": "python",
   "name": "python3"
  },
  "language_info": {
   "codemirror_mode": {
    "name": "ipython",
    "version": 3
   },
   "file_extension": ".py",
   "mimetype": "text/x-python",
   "name": "python",
   "nbconvert_exporter": "python",
   "pygments_lexer": "ipython3",
   "version": "3.7.1"
  }
 },
 "nbformat": 4,
 "nbformat_minor": 2
}
