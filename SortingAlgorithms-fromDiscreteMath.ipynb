{
 "cells": [
  {
   "cell_type": "markdown",
   "metadata": {},
   "source": [
    "# Bubble Sort\n",
    "Compare between all adjacent pairs and switch positions.\n",
    "Operate until the list is all sortedd.\n",
    "\n",
    "Complexity: O($n^2$)"
   ]
  },
  {
   "cell_type": "code",
   "execution_count": 11,
   "metadata": {},
   "outputs": [],
   "source": [
    "def Bubblesort(mylist):\n",
    "    k = 1\n",
    "    j = 0\n",
    "    while k != 0:\n",
    "        k = 0\n",
    "        for i in range (0,len(mylist)-1):\n",
    "            larger = mylist[i]\n",
    "            if mylist[i+1] > mylist[i]:\n",
    "                larger = mylist[i+1]\n",
    "                mylist[i+1] = mylist[i]\n",
    "                mylist[i] = larger\n",
    "                k += 1\n",
    "        j += 1\n",
    "    return mylist\n"
   ]
  },
  {
   "cell_type": "code",
   "execution_count": 14,
   "metadata": {},
   "outputs": [
    {
     "data": {
      "text/plain": [
       "[8, 7, 7, 6, 5, 4, 3, 3, 3, 1]"
      ]
     },
     "execution_count": 14,
     "metadata": {},
     "output_type": "execute_result"
    }
   ],
   "source": [
    "Bubblesort([4,3,7,3,8,3,1,5,7,6])"
   ]
  },
  {
   "cell_type": "markdown",
   "metadata": {},
   "source": [
    "# Insertion Sort\n",
    "\n",
    "Starting from the second element, each element is compared to all the elements before it.\n",
    "\n",
    "\n",
    "- Practice note:\n",
    "\n",
    "    list.remove() function removes element by its value and causes problem when there are elements with the same value. To remove by index, use del a[i].\n",
    "    "
   ]
  },
  {
   "cell_type": "code",
   "execution_count": 255,
   "metadata": {},
   "outputs": [],
   "source": [
    "def Bubblesort(mylist):\n",
    " \n",
    "    for i in range (0,len(mylist)-1):\n",
    "        larger = mylist[i]\n",
    "        if mylist[i+1] > mylist[i]:\n",
    "            larger = mylist[i+1]\n",
    "            mylist[i+1] = mylist[i]\n",
    "            mylist[i] = larger\n",
    "    return mylist\n"
   ]
  },
  {
   "cell_type": "code",
   "execution_count": 266,
   "metadata": {},
   "outputs": [],
   "source": [
    "test_list = [1,4,3,6,8,5,0,12,1,3,4,2]"
   ]
  },
  {
   "cell_type": "code",
   "execution_count": 280,
   "metadata": {},
   "outputs": [],
   "source": [
    "def InsertionSort(mylist):\n",
    "    for i in range(1,len(mylist)):\n",
    "        j = 0\n",
    "        for j in range(0,i):\n",
    "            if mylist[i]>mylist[j]:\n",
    "                larger = [mylist[i]]\n",
    "                del mylist[i]\n",
    "                mylist = mylist[:j] + larger + mylist[j:]\n",
    "\n",
    "    return mylist"
   ]
  },
  {
   "cell_type": "code",
   "execution_count": 281,
   "metadata": {},
   "outputs": [
    {
     "data": {
      "text/plain": [
       "[12, 8, 6, 5, 4, 4, 3, 3, 2, 1, 1, 0]"
      ]
     },
     "execution_count": 281,
     "metadata": {},
     "output_type": "execute_result"
    }
   ],
   "source": [
    "InsertionSort([1,4,3,6,8,5,0,12,1,3,4,2])"
   ]
  },
  {
   "cell_type": "code",
   "execution_count": null,
   "metadata": {},
   "outputs": [],
   "source": []
  }
 ],
 "metadata": {
  "kernelspec": {
   "display_name": "Python 3",
   "language": "python",
   "name": "python3"
  },
  "language_info": {
   "codemirror_mode": {
    "name": "ipython",
    "version": 3
   },
   "file_extension": ".py",
   "mimetype": "text/x-python",
   "name": "python",
   "nbconvert_exporter": "python",
   "pygments_lexer": "ipython3",
   "version": "3.7.3"
  }
 },
 "nbformat": 4,
 "nbformat_minor": 2
}
