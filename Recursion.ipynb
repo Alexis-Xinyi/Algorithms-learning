{
 "cells": [
  {
   "cell_type": "markdown",
   "metadata": {},
   "source": [
    "### The Call Stack\n"
   ]
  },
  {
   "cell_type": "code",
   "execution_count": 1,
   "metadata": {},
   "outputs": [],
   "source": [
    "def fact(i):\n",
    "    if i == 1:\n",
    "        return 1\n",
    "    else:\n",
    "        return i*fact(i-1)"
   ]
  },
  {
   "cell_type": "code",
   "execution_count": 79,
   "metadata": {},
   "outputs": [],
   "source": [
    "testlist = [1,2,3,4,5]"
   ]
  },
  {
   "cell_type": "code",
   "execution_count": 57,
   "metadata": {},
   "outputs": [
    {
     "data": {
      "text/plain": [
       "15"
      ]
     },
     "execution_count": 57,
     "metadata": {},
     "output_type": "execute_result"
    }
   ],
   "source": [
    "def sumup(arr):\n",
    "    first = arr[0]\n",
    "    if len(arr)==1:\n",
    "        return first\n",
    "    else:\n",
    "        arr0 = arr.pop(arr[0])\n",
    "        return arr0+sumup(arr)\n",
    "    \n",
    "sumup(testlist)\n"
   ]
  },
  {
   "cell_type": "code",
   "execution_count": 67,
   "metadata": {},
   "outputs": [],
   "source": [
    "def count(arr):\n",
    "    if len(arr) == 1:\n",
    "        return 1\n",
    "    else:\n",
    "        del arr[0]\n",
    "        return 1+count(arr)"
   ]
  },
  {
   "cell_type": "code",
   "execution_count": 68,
   "metadata": {},
   "outputs": [
    {
     "name": "stdout",
     "output_type": "stream",
     "text": [
      "[2, 3, 4, 5]\n",
      "[3, 4, 5]\n",
      "[4, 5]\n",
      "[5]\n"
     ]
    },
    {
     "data": {
      "text/plain": [
       "5"
      ]
     },
     "execution_count": 68,
     "metadata": {},
     "output_type": "execute_result"
    }
   ],
   "source": [
    "count(testlist)"
   ]
  },
  {
   "cell_type": "code",
   "execution_count": 80,
   "metadata": {},
   "outputs": [
    {
     "data": {
      "text/plain": [
       "[1, 2, 3, 4, 5]"
      ]
     },
     "execution_count": 80,
     "metadata": {},
     "output_type": "execute_result"
    }
   ],
   "source": [
    "def findMax(arr):\n",
    "    maxnumber = arr[0]\n",
    "    maxnumber_index = 0\n",
    "    if len(arr) == 1:\n",
    "        return arr[0]\n",
    "    if arr[-1] >= maxnumber:\n",
    "        maxnumber = arr[-1]\n",
    "        del arr[maxnumber_index]\n",
    "        maxnumber_index = len(arr)-1\n",
    "    elif arr[-1] < maxnumber:\n",
    "        del arr[-1]\n",
    "    return findMax(arr)\n",
    "  \n",
    "        "
   ]
  },
  {
   "cell_type": "code",
   "execution_count": 81,
   "metadata": {},
   "outputs": [
    {
     "data": {
      "text/plain": [
       "5"
      ]
     },
     "execution_count": 81,
     "metadata": {},
     "output_type": "execute_result"
    }
   ],
   "source": [
    "findMax(testlist)"
   ]
  },
  {
   "cell_type": "markdown",
   "metadata": {},
   "source": [
    "# QuickSort"
   ]
  },
  {
   "cell_type": "code",
   "execution_count": 160,
   "metadata": {},
   "outputs": [],
   "source": [
    "def quicksort(arr):\n",
    "    lowset = []\n",
    "    highset = []\n",
    "\n",
    "    if len(arr) <= 1:\n",
    "        print('done',arr)\n",
    "        return arr\n",
    "    else:\n",
    "        pivot = arr[0]\n",
    "        print('pivot',pivot)\n",
    "        print(len(arr))\n",
    "\n",
    "        for i in range (1,len(arr)):\n",
    "            if arr[i] <= pivot:\n",
    "                lowset.append(arr[i])\n",
    "            else:\n",
    "                highset.append(arr[i])\n",
    "        return quicksort(lowset)+[pivot]+quicksort(highset)"
   ]
  },
  {
   "cell_type": "code",
   "execution_count": 161,
   "metadata": {},
   "outputs": [
    {
     "name": "stdout",
     "output_type": "stream",
     "text": [
      "pivot 1\n",
      "12\n",
      "done []\n",
      "pivot 4\n",
      "11\n",
      "pivot 2\n",
      "3\n",
      "done []\n",
      "pivot 4\n",
      "2\n",
      "done [3]\n",
      "done []\n",
      "pivot 6\n",
      "7\n",
      "pivot 6\n",
      "2\n",
      "done [5]\n",
      "done []\n",
      "pivot 9\n",
      "4\n",
      "done []\n",
      "pivot 63\n",
      "3\n",
      "done []\n",
      "pivot 5346\n",
      "2\n",
      "done []\n",
      "done [52426]\n"
     ]
    },
    {
     "data": {
      "text/plain": [
       "[1, 2, 3, 4, 4, 5, 6, 6, 9, 63, 5346, 52426]"
      ]
     },
     "execution_count": 161,
     "metadata": {},
     "output_type": "execute_result"
    }
   ],
   "source": [
    "quicksort([1,4,2,4,6,9,3,6,5,63,5346,52426])"
   ]
  },
  {
   "cell_type": "code",
   "execution_count": null,
   "metadata": {},
   "outputs": [],
   "source": []
  },
  {
   "cell_type": "code",
   "execution_count": null,
   "metadata": {},
   "outputs": [],
   "source": []
  }
 ],
 "metadata": {
  "kernelspec": {
   "display_name": "Python 3",
   "language": "python",
   "name": "python3"
  },
  "language_info": {
   "codemirror_mode": {
    "name": "ipython",
    "version": 3
   },
   "file_extension": ".py",
   "mimetype": "text/x-python",
   "name": "python",
   "nbconvert_exporter": "python",
   "pygments_lexer": "ipython3",
   "version": "3.7.1"
  }
 },
 "nbformat": 4,
 "nbformat_minor": 2
}
